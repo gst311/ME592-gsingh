{
 "cells": [
  {
   "cell_type": "code",
   "execution_count": 23,
   "id": "28f03f9e-c891-4415-91d5-3303de1919bd",
   "metadata": {},
   "outputs": [],
   "source": [
    "import torch\n",
    "from matplotlib import pyplot as plt\n",
    "import numpy as np"
   ]
  },
  {
   "cell_type": "code",
   "execution_count": 24,
   "id": "c43ecd1c-876d-418f-a43e-37b1fe48f66f",
   "metadata": {},
   "outputs": [],
   "source": [
    "import torchvision.datasets as datasets\n",
    "from torchvision import transforms"
   ]
  },
  {
   "cell_type": "code",
   "execution_count": 31,
   "id": "5f8d2e9d-69a0-483c-bb6a-5310959b5674",
   "metadata": {},
   "outputs": [],
   "source": [
    "mnist_trainset = datasets.MNIST(root='./data',train=True,download=True, transform=None)"
   ]
  },
  {
   "cell_type": "code",
   "execution_count": 32,
   "id": "55cabf4c-24a4-4025-97a3-09433835b391",
   "metadata": {},
   "outputs": [],
   "source": [
    "mnist_testset = datasets.MNIST(root='./data', train=False, download=True, transform= None)"
   ]
  },
  {
   "cell_type": "code",
   "execution_count": 33,
   "id": "2a5e6f79-f935-475c-837e-b50d026599d3",
   "metadata": {},
   "outputs": [
    {
     "data": {
      "text/plain": [
       "60000"
      ]
     },
     "execution_count": 33,
     "metadata": {},
     "output_type": "execute_result"
    }
   ],
   "source": [
    "len(mnist_trainset)"
   ]
  },
  {
   "cell_type": "code",
   "execution_count": 34,
   "id": "0edbcf60-25c0-4984-bf7a-ec4ff045ad70",
   "metadata": {},
   "outputs": [
    {
     "data": {
      "text/plain": [
       "10000"
      ]
     },
     "execution_count": 34,
     "metadata": {},
     "output_type": "execute_result"
    }
   ],
   "source": [
    "len(mnist_testset)"
   ]
  },
  {
   "cell_type": "code",
   "execution_count": 35,
   "id": "7548d77a-0184-416a-a60b-13ae9868536f",
   "metadata": {},
   "outputs": [],
   "source": [
    "indices = torch.randperm(len(mnist_trainset))[:1000]"
   ]
  },
  {
   "cell_type": "code",
   "execution_count": 36,
   "id": "00e35944-f086-4c05-a85c-7d5b2bab7b53",
   "metadata": {},
   "outputs": [
    {
     "data": {
      "text/plain": [
       "1000"
      ]
     },
     "execution_count": 36,
     "metadata": {},
     "output_type": "execute_result"
    }
   ],
   "source": [
    "len(indices)"
   ]
  },
  {
   "cell_type": "code",
   "execution_count": 41,
   "id": "c03f8c6b-3dc2-4216-b082-68bb32405d19",
   "metadata": {},
   "outputs": [
    {
     "data": {
      "text/plain": [
       "(array([], dtype=float64),\n",
       " array([], dtype=float64),\n",
       " <BarContainer object of 0 artists>)"
      ]
     },
     "execution_count": 41,
     "metadata": {},
     "output_type": "execute_result"
    }
   ],
   "source": [
    "ax.hist(indices, bins = [])"
   ]
  },
  {
   "cell_type": "code",
   "execution_count": 42,
   "id": "59ff63e6-f6c7-43d3-9611-f1a7680fb4b6",
   "metadata": {},
   "outputs": [],
   "source": [
    "plt.show()"
   ]
  },
  {
   "cell_type": "code",
   "execution_count": null,
   "id": "2caba7f3-3913-48ab-b038-2f0e70a7ba74",
   "metadata": {},
   "outputs": [],
   "source": []
  }
 ],
 "metadata": {
  "kernelspec": {
   "display_name": "me592",
   "language": "python",
   "name": "me592"
  },
  "language_info": {
   "codemirror_mode": {
    "name": "ipython",
    "version": 3
   },
   "file_extension": ".py",
   "mimetype": "text/x-python",
   "name": "python",
   "nbconvert_exporter": "python",
   "pygments_lexer": "ipython3",
   "version": "3.10.4"
  }
 },
 "nbformat": 4,
 "nbformat_minor": 5
}
